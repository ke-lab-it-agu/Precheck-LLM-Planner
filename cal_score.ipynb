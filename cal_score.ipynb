{
 "cells": [
  {
   "cell_type": "code",
   "execution_count": 1,
   "metadata": {},
   "outputs": [],
   "source": [
    "import json\n",
    "\n",
    "file_path = \"result/state_change_task/result_multi-prompts_gpt-4o.json\"\n",
    "\n",
    "with open(file_path) as f:\n",
    "    result = json.load(f)"
   ]
  },
  {
   "cell_type": "code",
   "execution_count": 2,
   "metadata": {},
   "outputs": [
    {
     "name": "stdout",
     "output_type": "stream",
     "text": [
      "SR: 0.894\n",
      "AEFR: 0.019\n",
      "FRRMA: 0.0\n",
      "ETFR: 0.087\n",
      "Ave. Steps: 3.391\n"
     ]
    }
   ],
   "source": [
    "# evaluation\n",
    "\n",
    "import numpy as np\n",
    "\n",
    "ave_steps = []\n",
    "success = 0\n",
    "rma = 0\n",
    "aef = 0\n",
    "etf = 0\n",
    "\n",
    "for res in result.values():\n",
    "    if res[\"result\"] == \"Success\":\n",
    "        success += 1\n",
    "    elif res[\"result\"] == \"Erroneous Terminate\":\n",
    "        etf += 1\n",
    "    elif res[\"result\"] == \"Execution Failure\":\n",
    "        aef += 1\n",
    "    else:\n",
    "        rma += 1\n",
    "    ave_steps.append(res[\"attempts\"])\n",
    "\n",
    "print(\"SR: \" + str(round(success/len(result), 3)))\n",
    "print(\"AEFR: \" + str(round(aef/len(result), 3)))\n",
    "print(\"FRRMA: \" + str(round(rma/len(result), 3)))\n",
    "print(\"ETFR: \" + str(round(etf/len(result), 3)))\n",
    "print(\"Ave. Steps: \" + str(round(np.mean(ave_steps), 3)))"
   ]
  }
 ],
 "metadata": {
  "kernelspec": {
   "display_name": "VH",
   "language": "python",
   "name": "python3"
  },
  "language_info": {
   "codemirror_mode": {
    "name": "ipython",
    "version": 3
   },
   "file_extension": ".py",
   "mimetype": "text/x-python",
   "name": "python",
   "nbconvert_exporter": "python",
   "pygments_lexer": "ipython3",
   "version": "3.8.16"
  }
 },
 "nbformat": 4,
 "nbformat_minor": 2
}
